{
  "nbformat": 4,
  "nbformat_minor": 0,
  "metadata": {
    "colab": {
      "provenance": [],
      "gpuType": "T4"
    },
    "kernelspec": {
      "name": "python3",
      "display_name": "Python 3"
    },
    "language_info": {
      "name": "python"
    },
    "accelerator": "GPU"
  },
  "cells": [
    {
      "cell_type": "markdown",
      "source": [
        "# Importation du dataset nettoyé"
      ],
      "metadata": {
        "id": "uBehtn6uwDh7"
      }
    },
    {
      "cell_type": "code",
      "execution_count": 15,
      "metadata": {
        "colab": {
          "base_uri": "https://localhost:8080/",
          "height": 273
        },
        "id": "WriG-3uP3DzD",
        "outputId": "37c8e1e8-29f9-44d9-d643-57024c0ce110"
      },
      "outputs": [
        {
          "output_type": "execute_result",
          "data": {
            "text/plain": [
              "         Mp  m (kg)  Ewltp (g/km)  W (mm)  At1 (mm)  ec (cm3)  ep (KW)  \\\n",
              "0  0.148611   993.0         117.0  2492.0    1455.0     999.0     48.0   \n",
              "1  0.148611   993.0         117.0  2492.0    1455.0     999.0     48.0   \n",
              "2  0.148611   993.0         117.0  2492.0    1455.0     999.0     48.0   \n",
              "3  0.148611   993.0         117.0  2492.0    1455.0     999.0     48.0   \n",
              "4  0.148611   993.0         117.0  2492.0    1455.0     999.0     48.0   \n",
              "\n",
              "   z (Wh/km)  Erwltp (g/km)  Fuel consumption   ...  Ft_lpg  Ft_ng  Ft_petrol  \\\n",
              "0        0.0           1.09                5.2  ...     0.0    0.0        1.0   \n",
              "1        0.0           1.09                5.2  ...     0.0    0.0        1.0   \n",
              "2        0.0           1.09                5.2  ...     0.0    0.0        1.0   \n",
              "3        0.0           1.09                5.2  ...     0.0    0.0        1.0   \n",
              "4        0.0           1.09                5.2  ...     0.0    0.0        1.0   \n",
              "\n",
              "   Ft_petrol/electric  Fm_B  Fm_E  Fm_F  Fm_H  Fm_M  Fm_P  \n",
              "0                 0.0   0.0   0.0   0.0   0.0   1.0   0.0  \n",
              "1                 0.0   0.0   0.0   0.0   0.0   1.0   0.0  \n",
              "2                 0.0   0.0   0.0   0.0   0.0   1.0   0.0  \n",
              "3                 0.0   0.0   0.0   0.0   0.0   1.0   0.0  \n",
              "4                 0.0   0.0   0.0   0.0   0.0   1.0   0.0  \n",
              "\n",
              "[5 rows x 26 columns]"
            ],
            "text/html": [
              "\n",
              "  <div id=\"df-86848e91-976c-407c-8b35-8b13d5d75a58\" class=\"colab-df-container\">\n",
              "    <div>\n",
              "<style scoped>\n",
              "    .dataframe tbody tr th:only-of-type {\n",
              "        vertical-align: middle;\n",
              "    }\n",
              "\n",
              "    .dataframe tbody tr th {\n",
              "        vertical-align: top;\n",
              "    }\n",
              "\n",
              "    .dataframe thead th {\n",
              "        text-align: right;\n",
              "    }\n",
              "</style>\n",
              "<table border=\"1\" class=\"dataframe\">\n",
              "  <thead>\n",
              "    <tr style=\"text-align: right;\">\n",
              "      <th></th>\n",
              "      <th>Mp</th>\n",
              "      <th>m (kg)</th>\n",
              "      <th>Ewltp (g/km)</th>\n",
              "      <th>W (mm)</th>\n",
              "      <th>At1 (mm)</th>\n",
              "      <th>ec (cm3)</th>\n",
              "      <th>ep (KW)</th>\n",
              "      <th>z (Wh/km)</th>\n",
              "      <th>Erwltp (g/km)</th>\n",
              "      <th>Fuel consumption</th>\n",
              "      <th>...</th>\n",
              "      <th>Ft_lpg</th>\n",
              "      <th>Ft_ng</th>\n",
              "      <th>Ft_petrol</th>\n",
              "      <th>Ft_petrol/electric</th>\n",
              "      <th>Fm_B</th>\n",
              "      <th>Fm_E</th>\n",
              "      <th>Fm_F</th>\n",
              "      <th>Fm_H</th>\n",
              "      <th>Fm_M</th>\n",
              "      <th>Fm_P</th>\n",
              "    </tr>\n",
              "  </thead>\n",
              "  <tbody>\n",
              "    <tr>\n",
              "      <th>0</th>\n",
              "      <td>0.148611</td>\n",
              "      <td>993.0</td>\n",
              "      <td>117.0</td>\n",
              "      <td>2492.0</td>\n",
              "      <td>1455.0</td>\n",
              "      <td>999.0</td>\n",
              "      <td>48.0</td>\n",
              "      <td>0.0</td>\n",
              "      <td>1.09</td>\n",
              "      <td>5.2</td>\n",
              "      <td>...</td>\n",
              "      <td>0.0</td>\n",
              "      <td>0.0</td>\n",
              "      <td>1.0</td>\n",
              "      <td>0.0</td>\n",
              "      <td>0.0</td>\n",
              "      <td>0.0</td>\n",
              "      <td>0.0</td>\n",
              "      <td>0.0</td>\n",
              "      <td>1.0</td>\n",
              "      <td>0.0</td>\n",
              "    </tr>\n",
              "    <tr>\n",
              "      <th>1</th>\n",
              "      <td>0.148611</td>\n",
              "      <td>993.0</td>\n",
              "      <td>117.0</td>\n",
              "      <td>2492.0</td>\n",
              "      <td>1455.0</td>\n",
              "      <td>999.0</td>\n",
              "      <td>48.0</td>\n",
              "      <td>0.0</td>\n",
              "      <td>1.09</td>\n",
              "      <td>5.2</td>\n",
              "      <td>...</td>\n",
              "      <td>0.0</td>\n",
              "      <td>0.0</td>\n",
              "      <td>1.0</td>\n",
              "      <td>0.0</td>\n",
              "      <td>0.0</td>\n",
              "      <td>0.0</td>\n",
              "      <td>0.0</td>\n",
              "      <td>0.0</td>\n",
              "      <td>1.0</td>\n",
              "      <td>0.0</td>\n",
              "    </tr>\n",
              "    <tr>\n",
              "      <th>2</th>\n",
              "      <td>0.148611</td>\n",
              "      <td>993.0</td>\n",
              "      <td>117.0</td>\n",
              "      <td>2492.0</td>\n",
              "      <td>1455.0</td>\n",
              "      <td>999.0</td>\n",
              "      <td>48.0</td>\n",
              "      <td>0.0</td>\n",
              "      <td>1.09</td>\n",
              "      <td>5.2</td>\n",
              "      <td>...</td>\n",
              "      <td>0.0</td>\n",
              "      <td>0.0</td>\n",
              "      <td>1.0</td>\n",
              "      <td>0.0</td>\n",
              "      <td>0.0</td>\n",
              "      <td>0.0</td>\n",
              "      <td>0.0</td>\n",
              "      <td>0.0</td>\n",
              "      <td>1.0</td>\n",
              "      <td>0.0</td>\n",
              "    </tr>\n",
              "    <tr>\n",
              "      <th>3</th>\n",
              "      <td>0.148611</td>\n",
              "      <td>993.0</td>\n",
              "      <td>117.0</td>\n",
              "      <td>2492.0</td>\n",
              "      <td>1455.0</td>\n",
              "      <td>999.0</td>\n",
              "      <td>48.0</td>\n",
              "      <td>0.0</td>\n",
              "      <td>1.09</td>\n",
              "      <td>5.2</td>\n",
              "      <td>...</td>\n",
              "      <td>0.0</td>\n",
              "      <td>0.0</td>\n",
              "      <td>1.0</td>\n",
              "      <td>0.0</td>\n",
              "      <td>0.0</td>\n",
              "      <td>0.0</td>\n",
              "      <td>0.0</td>\n",
              "      <td>0.0</td>\n",
              "      <td>1.0</td>\n",
              "      <td>0.0</td>\n",
              "    </tr>\n",
              "    <tr>\n",
              "      <th>4</th>\n",
              "      <td>0.148611</td>\n",
              "      <td>993.0</td>\n",
              "      <td>117.0</td>\n",
              "      <td>2492.0</td>\n",
              "      <td>1455.0</td>\n",
              "      <td>999.0</td>\n",
              "      <td>48.0</td>\n",
              "      <td>0.0</td>\n",
              "      <td>1.09</td>\n",
              "      <td>5.2</td>\n",
              "      <td>...</td>\n",
              "      <td>0.0</td>\n",
              "      <td>0.0</td>\n",
              "      <td>1.0</td>\n",
              "      <td>0.0</td>\n",
              "      <td>0.0</td>\n",
              "      <td>0.0</td>\n",
              "      <td>0.0</td>\n",
              "      <td>0.0</td>\n",
              "      <td>1.0</td>\n",
              "      <td>0.0</td>\n",
              "    </tr>\n",
              "  </tbody>\n",
              "</table>\n",
              "<p>5 rows × 26 columns</p>\n",
              "</div>\n",
              "    <div class=\"colab-df-buttons\">\n",
              "\n",
              "  <div class=\"colab-df-container\">\n",
              "    <button class=\"colab-df-convert\" onclick=\"convertToInteractive('df-86848e91-976c-407c-8b35-8b13d5d75a58')\"\n",
              "            title=\"Convert this dataframe to an interactive table.\"\n",
              "            style=\"display:none;\">\n",
              "\n",
              "  <svg xmlns=\"http://www.w3.org/2000/svg\" height=\"24px\" viewBox=\"0 -960 960 960\">\n",
              "    <path d=\"M120-120v-720h720v720H120Zm60-500h600v-160H180v160Zm220 220h160v-160H400v160Zm0 220h160v-160H400v160ZM180-400h160v-160H180v160Zm440 0h160v-160H620v160ZM180-180h160v-160H180v160Zm440 0h160v-160H620v160Z\"/>\n",
              "  </svg>\n",
              "    </button>\n",
              "\n",
              "  <style>\n",
              "    .colab-df-container {\n",
              "      display:flex;\n",
              "      gap: 12px;\n",
              "    }\n",
              "\n",
              "    .colab-df-convert {\n",
              "      background-color: #E8F0FE;\n",
              "      border: none;\n",
              "      border-radius: 50%;\n",
              "      cursor: pointer;\n",
              "      display: none;\n",
              "      fill: #1967D2;\n",
              "      height: 32px;\n",
              "      padding: 0 0 0 0;\n",
              "      width: 32px;\n",
              "    }\n",
              "\n",
              "    .colab-df-convert:hover {\n",
              "      background-color: #E2EBFA;\n",
              "      box-shadow: 0px 1px 2px rgba(60, 64, 67, 0.3), 0px 1px 3px 1px rgba(60, 64, 67, 0.15);\n",
              "      fill: #174EA6;\n",
              "    }\n",
              "\n",
              "    .colab-df-buttons div {\n",
              "      margin-bottom: 4px;\n",
              "    }\n",
              "\n",
              "    [theme=dark] .colab-df-convert {\n",
              "      background-color: #3B4455;\n",
              "      fill: #D2E3FC;\n",
              "    }\n",
              "\n",
              "    [theme=dark] .colab-df-convert:hover {\n",
              "      background-color: #434B5C;\n",
              "      box-shadow: 0px 1px 3px 1px rgba(0, 0, 0, 0.15);\n",
              "      filter: drop-shadow(0px 1px 2px rgba(0, 0, 0, 0.3));\n",
              "      fill: #FFFFFF;\n",
              "    }\n",
              "  </style>\n",
              "\n",
              "    <script>\n",
              "      const buttonEl =\n",
              "        document.querySelector('#df-86848e91-976c-407c-8b35-8b13d5d75a58 button.colab-df-convert');\n",
              "      buttonEl.style.display =\n",
              "        google.colab.kernel.accessAllowed ? 'block' : 'none';\n",
              "\n",
              "      async function convertToInteractive(key) {\n",
              "        const element = document.querySelector('#df-86848e91-976c-407c-8b35-8b13d5d75a58');\n",
              "        const dataTable =\n",
              "          await google.colab.kernel.invokeFunction('convertToInteractive',\n",
              "                                                    [key], {});\n",
              "        if (!dataTable) return;\n",
              "\n",
              "        const docLinkHtml = 'Like what you see? Visit the ' +\n",
              "          '<a target=\"_blank\" href=https://colab.research.google.com/notebooks/data_table.ipynb>data table notebook</a>'\n",
              "          + ' to learn more about interactive tables.';\n",
              "        element.innerHTML = '';\n",
              "        dataTable['output_type'] = 'display_data';\n",
              "        await google.colab.output.renderOutput(dataTable, element);\n",
              "        const docLink = document.createElement('div');\n",
              "        docLink.innerHTML = docLinkHtml;\n",
              "        element.appendChild(docLink);\n",
              "      }\n",
              "    </script>\n",
              "  </div>\n",
              "\n",
              "\n",
              "<div id=\"df-ea9e2284-8f55-4369-9c45-5d361199ae01\">\n",
              "  <button class=\"colab-df-quickchart\" onclick=\"quickchart('df-ea9e2284-8f55-4369-9c45-5d361199ae01')\"\n",
              "            title=\"Suggest charts\"\n",
              "            style=\"display:none;\">\n",
              "\n",
              "<svg xmlns=\"http://www.w3.org/2000/svg\" height=\"24px\"viewBox=\"0 0 24 24\"\n",
              "     width=\"24px\">\n",
              "    <g>\n",
              "        <path d=\"M19 3H5c-1.1 0-2 .9-2 2v14c0 1.1.9 2 2 2h14c1.1 0 2-.9 2-2V5c0-1.1-.9-2-2-2zM9 17H7v-7h2v7zm4 0h-2V7h2v10zm4 0h-2v-4h2v4z\"/>\n",
              "    </g>\n",
              "</svg>\n",
              "  </button>\n",
              "\n",
              "<style>\n",
              "  .colab-df-quickchart {\n",
              "      --bg-color: #E8F0FE;\n",
              "      --fill-color: #1967D2;\n",
              "      --hover-bg-color: #E2EBFA;\n",
              "      --hover-fill-color: #174EA6;\n",
              "      --disabled-fill-color: #AAA;\n",
              "      --disabled-bg-color: #DDD;\n",
              "  }\n",
              "\n",
              "  [theme=dark] .colab-df-quickchart {\n",
              "      --bg-color: #3B4455;\n",
              "      --fill-color: #D2E3FC;\n",
              "      --hover-bg-color: #434B5C;\n",
              "      --hover-fill-color: #FFFFFF;\n",
              "      --disabled-bg-color: #3B4455;\n",
              "      --disabled-fill-color: #666;\n",
              "  }\n",
              "\n",
              "  .colab-df-quickchart {\n",
              "    background-color: var(--bg-color);\n",
              "    border: none;\n",
              "    border-radius: 50%;\n",
              "    cursor: pointer;\n",
              "    display: none;\n",
              "    fill: var(--fill-color);\n",
              "    height: 32px;\n",
              "    padding: 0;\n",
              "    width: 32px;\n",
              "  }\n",
              "\n",
              "  .colab-df-quickchart:hover {\n",
              "    background-color: var(--hover-bg-color);\n",
              "    box-shadow: 0 1px 2px rgba(60, 64, 67, 0.3), 0 1px 3px 1px rgba(60, 64, 67, 0.15);\n",
              "    fill: var(--button-hover-fill-color);\n",
              "  }\n",
              "\n",
              "  .colab-df-quickchart-complete:disabled,\n",
              "  .colab-df-quickchart-complete:disabled:hover {\n",
              "    background-color: var(--disabled-bg-color);\n",
              "    fill: var(--disabled-fill-color);\n",
              "    box-shadow: none;\n",
              "  }\n",
              "\n",
              "  .colab-df-spinner {\n",
              "    border: 2px solid var(--fill-color);\n",
              "    border-color: transparent;\n",
              "    border-bottom-color: var(--fill-color);\n",
              "    animation:\n",
              "      spin 1s steps(1) infinite;\n",
              "  }\n",
              "\n",
              "  @keyframes spin {\n",
              "    0% {\n",
              "      border-color: transparent;\n",
              "      border-bottom-color: var(--fill-color);\n",
              "      border-left-color: var(--fill-color);\n",
              "    }\n",
              "    20% {\n",
              "      border-color: transparent;\n",
              "      border-left-color: var(--fill-color);\n",
              "      border-top-color: var(--fill-color);\n",
              "    }\n",
              "    30% {\n",
              "      border-color: transparent;\n",
              "      border-left-color: var(--fill-color);\n",
              "      border-top-color: var(--fill-color);\n",
              "      border-right-color: var(--fill-color);\n",
              "    }\n",
              "    40% {\n",
              "      border-color: transparent;\n",
              "      border-right-color: var(--fill-color);\n",
              "      border-top-color: var(--fill-color);\n",
              "    }\n",
              "    60% {\n",
              "      border-color: transparent;\n",
              "      border-right-color: var(--fill-color);\n",
              "    }\n",
              "    80% {\n",
              "      border-color: transparent;\n",
              "      border-right-color: var(--fill-color);\n",
              "      border-bottom-color: var(--fill-color);\n",
              "    }\n",
              "    90% {\n",
              "      border-color: transparent;\n",
              "      border-bottom-color: var(--fill-color);\n",
              "    }\n",
              "  }\n",
              "</style>\n",
              "\n",
              "  <script>\n",
              "    async function quickchart(key) {\n",
              "      const quickchartButtonEl =\n",
              "        document.querySelector('#' + key + ' button');\n",
              "      quickchartButtonEl.disabled = true;  // To prevent multiple clicks.\n",
              "      quickchartButtonEl.classList.add('colab-df-spinner');\n",
              "      try {\n",
              "        const charts = await google.colab.kernel.invokeFunction(\n",
              "            'suggestCharts', [key], {});\n",
              "      } catch (error) {\n",
              "        console.error('Error during call to suggestCharts:', error);\n",
              "      }\n",
              "      quickchartButtonEl.classList.remove('colab-df-spinner');\n",
              "      quickchartButtonEl.classList.add('colab-df-quickchart-complete');\n",
              "    }\n",
              "    (() => {\n",
              "      let quickchartButtonEl =\n",
              "        document.querySelector('#df-ea9e2284-8f55-4369-9c45-5d361199ae01 button');\n",
              "      quickchartButtonEl.style.display =\n",
              "        google.colab.kernel.accessAllowed ? 'block' : 'none';\n",
              "    })();\n",
              "  </script>\n",
              "</div>\n",
              "\n",
              "    </div>\n",
              "  </div>\n"
            ],
            "application/vnd.google.colaboratory.intrinsic+json": {
              "type": "dataframe",
              "variable_name": "df"
            }
          },
          "metadata": {},
          "execution_count": 15
        }
      ],
      "source": [
        "import pandas as pd\n",
        "\n",
        "df = pd.read_csv('preprocessed_dataset.csv')\n",
        "df.head()"
      ]
    },
    {
      "cell_type": "code",
      "source": [
        "df = df.dropna()"
      ],
      "metadata": {
        "id": "WVVSGR1DxpWC"
      },
      "execution_count": 18,
      "outputs": []
    },
    {
      "cell_type": "markdown",
      "source": [
        "# Séparation en jeu d'entrainement et jeu de test"
      ],
      "metadata": {
        "id": "wr7_4JbXwC1M"
      }
    },
    {
      "cell_type": "code",
      "source": [
        "from sklearn.model_selection import train_test_split\n",
        "\n",
        "X = df.drop(axis=1, columns=['Ewltp (g/km)'])\n",
        "y = df['Ewltp (g/km)']\n",
        "\n",
        "X_train, X_test, y_train, y_test = train_test_split(X, y, test_size=0.2, random_state=10)"
      ],
      "metadata": {
        "id": "cvAeWLoWwOcn"
      },
      "execution_count": 20,
      "outputs": []
    },
    {
      "cell_type": "markdown",
      "source": [
        "# Normalisation par MinMaxScaler"
      ],
      "metadata": {
        "id": "DSdfhSvFwV9z"
      }
    },
    {
      "cell_type": "code",
      "source": [
        "from sklearn.preprocessing import MinMaxScaler\n",
        "\n",
        "scaler = MinMaxScaler()\n",
        "\n",
        "X_train = scaler.fit_transform(X_train)\n",
        "\n",
        "X_test = scaler.transform(X_test)"
      ],
      "metadata": {
        "id": "lYW4J1kjwc0E"
      },
      "execution_count": 21,
      "outputs": []
    },
    {
      "cell_type": "markdown",
      "source": [
        "# I. Modélisation"
      ],
      "metadata": {
        "id": "pdPhg4PswfZ9"
      }
    },
    {
      "cell_type": "markdown",
      "source": [
        "## 1. Régression"
      ],
      "metadata": {
        "id": "C9-BdVo2wj43"
      }
    },
    {
      "cell_type": "markdown",
      "source": [
        "### a) LinearRegression"
      ],
      "metadata": {
        "id": "7qXDudWhwpHl"
      }
    },
    {
      "cell_type": "code",
      "source": [
        "from sklearn.linear_model import LinearRegression\n",
        "from sklearn.metrics import mean_absolute_error, mean_squared_error, r2_score\n",
        "import numpy as np\n",
        "\n",
        "lr = LinearRegression()\n",
        "\n",
        "lr.fit(X_train, y_train)\n",
        "\n",
        "y_pred = lr.predict(X_test)\n",
        "\n",
        "lr_mae = mean_absolute_error(y_test, y_pred)\n",
        "lr_mse = mean_squared_error(y_test, y_pred)\n",
        "lr_rmse = np.sqrt(lr_mse)\n",
        "lr_r2 = r2_score(y_test, y_pred)\n",
        "\n",
        "resultat_lr = {\"MAE\": lr_mae, \"MSE\": lr_mse, \"RMSE\": lr_rmse, \"R2\": lr_r2}\n",
        "\n",
        "print(resultat_lr)"
      ],
      "metadata": {
        "colab": {
          "base_uri": "https://localhost:8080/"
        },
        "id": "tcbmpUj7wh46",
        "outputId": "01fdfd0f-f913-4c77-af37-af0c5fdc2a79"
      },
      "execution_count": 23,
      "outputs": [
        {
          "output_type": "stream",
          "name": "stdout",
          "text": [
            "{'MAE': 1.289301355713608, 'MSE': 3.841155833958648, 'RMSE': 1.9598866890610407, 'R2': 0.9983138442614341}\n"
          ]
        }
      ]
    },
    {
      "cell_type": "markdown",
      "source": [
        "### b) DecisionTreeRegressor"
      ],
      "metadata": {
        "id": "Pox3RtmBx-C_"
      }
    },
    {
      "cell_type": "code",
      "source": [
        "from sklearn.tree import DecisionTreeRegressor\n",
        "\n",
        "dt = DecisionTreeRegressor(random_state=42)\n",
        "\n",
        "dt.fit(X_train, y_train)\n",
        "\n",
        "y_pred = dt.predict(X_test)\n",
        "\n",
        "dt_mae = mean_absolute_error(y_test, y_pred)\n",
        "dt_mse = mean_squared_error(y_test, y_pred)\n",
        "dt_rmse = np.sqrt(dt_mse)\n",
        "dt_r2 = r2_score(y_test, y_pred)\n",
        "\n",
        "resultat_dt = {\"MAE\": dt_mae, \"MSE\": dt_mse, \"RMSE\": dt_rmse, \"R2\": dt_r2}\n",
        "\n",
        "print(resultat_dt)"
      ],
      "metadata": {
        "colab": {
          "base_uri": "https://localhost:8080/"
        },
        "id": "UQyZYmOmx_6k",
        "outputId": "d47ca932-578b-4ad2-dc6e-6978f0c4b220"
      },
      "execution_count": 24,
      "outputs": [
        {
          "output_type": "stream",
          "name": "stdout",
          "text": [
            "{'MAE': 0.30756014662043885, 'MSE': 0.27717563777837606, 'RMSE': 0.5264747266283312, 'R2': 0.9998783279532429}\n"
          ]
        }
      ]
    },
    {
      "cell_type": "markdown",
      "source": [
        "### c) RandomForestRegressor"
      ],
      "metadata": {
        "id": "JD07FzK9yGAk"
      }
    },
    {
      "cell_type": "code",
      "source": [
        "from sklearn.ensemble import RandomForestRegressor\n",
        "\n",
        "rf = RandomForestRegressor(random_state=42)\n",
        "\n",
        "rf.fit(X_train, y_train)\n",
        "\n",
        "y_pred = rf.predict(X_test)\n",
        "\n",
        "rf_mae = mean_absolute_error(y_test, y_pred)\n",
        "rf_mse = mean_squared_error(y_test, y_pred)\n",
        "rf_rmse = np.sqrt(rf_mse)\n",
        "rf_r2 = r2_score(y_test, y_pred)\n",
        "\n",
        "resultat_rf = {\"MAE\": rf_mae, \"MSE\": rf_mse, \"RMSE\": rf_rmse, \"R2\": rf_r2}\n",
        "\n",
        "print(resultat_rf)"
      ],
      "metadata": {
        "colab": {
          "base_uri": "https://localhost:8080/"
        },
        "id": "5z3naPkjyIXG",
        "outputId": "d0cb434a-d3f9-4ed8-fc40-c30b1420d4f7"
      },
      "execution_count": 25,
      "outputs": [
        {
          "output_type": "stream",
          "name": "stdout",
          "text": [
            "{'MAE': 0.30791648416264455, 'MSE': 0.25525716614161925, 'RMSE': 0.5052298151748561, 'R2': 0.9998879495250637}\n"
          ]
        }
      ]
    },
    {
      "cell_type": "markdown",
      "source": [
        "### d) XGBoostRegressor"
      ],
      "metadata": {
        "id": "NxQbXd7HyL5B"
      }
    },
    {
      "cell_type": "code",
      "source": [
        "from xgboost import XGBRegressor\n",
        "\n",
        "xgb = XGBRegressor(random_state=42)\n",
        "\n",
        "xgb.fit(X_train, y_train)\n",
        "\n",
        "y_pred = xgb.predict(X_test)\n",
        "\n",
        "xgb_mae = mean_absolute_error(y_test, y_pred)\n",
        "xgb_mse = mean_squared_error(y_test, y_pred)\n",
        "xgb_rmse = np.sqrt(xgb_mse)\n",
        "xgb_r2 = r2_score(y_test, y_pred)\n",
        "\n",
        "resultat_xgb = {\"MAE\": xgb_mae, \"MSE\": xgb_mse, \"RMSE\": xgb_rmse, \"R2\": xgb_r2}\n",
        "\n",
        "print(resultat_xgb)"
      ],
      "metadata": {
        "colab": {
          "base_uri": "https://localhost:8080/"
        },
        "id": "y9Gd9Nn6yOpM",
        "outputId": "69cf4a79-308b-4b39-9e30-9ddaa988f16e"
      },
      "execution_count": 26,
      "outputs": [
        {
          "output_type": "stream",
          "name": "stdout",
          "text": [
            "{'MAE': 0.47519932430949735, 'MSE': 0.461255024437096, 'RMSE': 0.6791575843919406, 'R2': 0.9997975224541735}\n"
          ]
        }
      ]
    },
    {
      "cell_type": "markdown",
      "source": [
        "## Comparaison des modèles"
      ],
      "metadata": {
        "id": "Ilq9r6QiyUAk"
      }
    },
    {
      "cell_type": "code",
      "source": [
        "import matplotlib.pyplot as plt\n",
        "\n",
        "results = {}\n",
        "\n",
        "results[\"LinearRegression\"] = resultat_lr\n",
        "results[\"DecisionTree\"] = resultat_dt\n",
        "results[\"RandomForest\"] = resultat_rf\n",
        "results[\"XGBoost\"] = resultat_xgb\n",
        "\n",
        "metrics = [\"MAE\", \"MSE\", \"RMSE\", \"R2\"]\n",
        "\n",
        "models = list(results.keys())\n",
        "\n",
        "values = {metric: [results[model][metric] for model in models] for metric in metrics}\n",
        "\n",
        "# Création des graphiques de comparaison\n",
        "for metric in metrics:\n",
        "    plt.figure()\n",
        "    plt.bar(models, values[metric])\n",
        "    plt.title(f\"Comparaison des modèles - {metric}\")\n",
        "    plt.ylabel(metric)\n",
        "    plt.xlabel(\"Modèles\")\n",
        "    plt.xticks(rotation=45)\n",
        "    plt.tight_layout()\n",
        "    plt.show()"
      ],
      "metadata": {
        "colab": {
          "base_uri": "https://localhost:8080/",
          "height": 1000
        },
        "id": "eKI9C5QvyVzc",
        "outputId": "a8ea54d8-c9c3-4b03-d8c2-4661e66efef1"
      },
      "execution_count": 28,
      "outputs": [
        {
          "output_type": "display_data",
          "data": {
            "text/plain": [
              "<Figure size 640x480 with 1 Axes>"
            ],
            "image/png": "[encoded data removed]"
          },
          "metadata": {}
        },
        {
          "output_type": "display_data",
          "data": {
            "text/plain": [
              "<Figure size 640x480 with 1 Axes>"
            ],
            "image/png": "[encoded data removed]"
          },
          "metadata": {}
        },
        {
          "output_type": "display_data",
          "data": {
            "text/plain": [
              "<Figure size 640x480 with 1 Axes>"
            ],
            "image/png": "[encoded data removed]"
          },
          "metadata": {}
        },
        {
          "output_type": "display_data",
          "data": {
            "text/plain": [
              "<Figure size 640x480 with 1 Axes>"
            ],
            "image/png": "[encoded data removed]"
          },
          "metadata": {}
        }
      ]
    },
    {
      "cell_type": "markdown",
      "source": [
        "# II. Optimisation par GridSearchCV du DecisionTreeRegressor"
      ],
      "metadata": {
        "id": "LTU-k6Eh362D"
      }
    },
    {
      "cell_type": "code",
      "source": [
        "from sklearn.model_selection import GridSearchCV\n",
        "from sklearn.metrics import make_scorer, mean_squared_error\n",
        "\n",
        "param_grid = {\n",
        "    'max_depth': [3, 5, 10, None],\n",
        "    'min_samples_split': [2, 5, 10],\n",
        "    'min_samples_leaf': [1, 2, 4],\n",
        "    'max_features': [None, 'sqrt', 'log2']\n",
        "}\n",
        "\n",
        "scorer = make_scorer(mean_squared_error, greater_is_better=False)\n",
        "\n",
        "grid_search = GridSearchCV(\n",
        "    estimator=dt,\n",
        "    param_grid=param_grid,\n",
        "    scoring=scorer,\n",
        "    cv=5,\n",
        "    n_jobs=-1,\n",
        "    verbose=1\n",
        ")\n",
        "\n",
        "grid_search.fit(X_train, y_train)\n",
        "\n",
        "# Meilleurs hyperparamètres\n",
        "best_params = grid_search.best_params_\n",
        "print(\"Meilleurs paramètres :\", best_params)\n",
        "\n",
        "# Meilleur modèle entraîné\n",
        "best_model = grid_search.best_estimator_\n",
        "\n",
        "# Évaluer le modèle optimisé\n",
        "y_pred_optimized = best_model.predict(X_test)\n",
        "dt_mae_opt = mean_absolute_error(y_test, y_pred_optimized)\n",
        "dt_mse_opt = mean_squared_error(y_test, y_pred_optimized)\n",
        "dt_rmse_opt = np.sqrt(dt_mse_opt)\n",
        "dt_r2_opt = r2_score(y_test, y_pred_optimized)\n",
        "\n",
        "resultat_opt = {\"MAE\": dt_mae_opt, \"MSE\": dt_mse_opt, \"RMSE\": dt_rmse_opt, \"R2\": dt_r2_opt}\n",
        "print(\"Résultats du modèle optimisé :\", resultat_opt)"
      ],
      "metadata": {
        "colab": {
          "base_uri": "https://localhost:8080/",
          "height": 211
        },
        "id": "cR_Osn9R36MO",
        "outputId": "5746fe78-c3e7-4a1c-9ea8-d2d50582d8a8"
      },
      "execution_count": 1,
      "outputs": [
        {
          "output_type": "error",
          "ename": "NameError",
          "evalue": "name 'dt' is not defined",
          "traceback": [
            "\u001b[0;31m---------------------------------------------------------------------------\u001b[0m",
            "\u001b[0;31mNameError\u001b[0m                                 Traceback (most recent call last)",
            "\u001b[0;32m<ipython-input-1-5943e8f2fa95>\u001b[0m in \u001b[0;36m<cell line: 13>\u001b[0;34m()\u001b[0m\n\u001b[1;32m     12\u001b[0m \u001b[0;34m\u001b[0m\u001b[0m\n\u001b[1;32m     13\u001b[0m grid_search = GridSearchCV(\n\u001b[0;32m---> 14\u001b[0;31m     \u001b[0mestimator\u001b[0m\u001b[0;34m=\u001b[0m\u001b[0mdt\u001b[0m\u001b[0;34m,\u001b[0m\u001b[0;34m\u001b[0m\u001b[0;34m\u001b[0m\u001b[0m\n\u001b[0m\u001b[1;32m     15\u001b[0m     \u001b[0mparam_grid\u001b[0m\u001b[0;34m=\u001b[0m\u001b[0mparam_grid\u001b[0m\u001b[0;34m,\u001b[0m\u001b[0;34m\u001b[0m\u001b[0;34m\u001b[0m\u001b[0m\n\u001b[1;32m     16\u001b[0m     \u001b[0mscoring\u001b[0m\u001b[0;34m=\u001b[0m\u001b[0mscorer\u001b[0m\u001b[0;34m,\u001b[0m\u001b[0;34m\u001b[0m\u001b[0;34m\u001b[0m\u001b[0m\n",
            "\u001b[0;31mNameError\u001b[0m: name 'dt' is not defined"
          ]
        }
      ]
    }
  ]
}